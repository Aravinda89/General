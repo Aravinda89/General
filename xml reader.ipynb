{
 "cells": [
  {
   "cell_type": "code",
   "execution_count": 42,
   "metadata": {},
   "outputs": [
    {
     "data": {
      "text/plain": [
       "'\\n<foo>\\n   <bar>\\n      <type foobar=\"1\"/>\\n      <type foobar=\"2\"/>\\n   </bar>\\n</foo>\\n'"
      ]
     },
     "execution_count": 42,
     "metadata": {},
     "output_type": "execute_result"
    }
   ],
   "source": [
    "'''\n",
    "<foo>\n",
    "   <bar>\n",
    "      <type foobar=\"1\"/>\n",
    "      <type foobar=\"2\"/>\n",
    "   </bar>\n",
    "</foo>\n",
    "'''"
   ]
  },
  {
   "cell_type": "code",
   "execution_count": null,
   "metadata": {},
   "outputs": [],
   "source": [
    "from xml.dom import minidom"
   ]
  },
  {
   "cell_type": "code",
   "execution_count": 33,
   "metadata": {},
   "outputs": [
    {
     "name": "stdout",
     "output_type": "stream",
     "text": [
      "2\n",
      "1\n",
      "1\n",
      "2\n"
     ]
    }
   ],
   "source": [
    "xmldoc = minidom.parse('sample.xml')\n",
    "\n",
    "itemlist = xmldoc.getElementsByTagName('type')\n",
    "print(len(itemlist))\n",
    "print(itemlist[0].attributes['foobar'].value)\n",
    "for s in itemlist:\n",
    "    print(s.attributes['foobar'].value)"
   ]
  },
  {
   "cell_type": "code",
   "execution_count": 43,
   "metadata": {},
   "outputs": [
    {
     "name": "stdout",
     "output_type": "stream",
     "text": [
      "1\n",
      "2\n"
     ]
    }
   ],
   "source": [
    "import xml.etree.ElementTree as ET\n",
    "\n",
    "root = ET.parse('sample.xml').getroot()\n",
    "\n",
    "for type_tag in root.findall('bar/type'):\n",
    "    value = type_tag.get('foobar')\n",
    "    print(value)"
   ]
  },
  {
   "cell_type": "markdown",
   "metadata": {},
   "source": [
    "### IMG_1.XML"
   ]
  },
  {
   "cell_type": "code",
   "execution_count": 26,
   "metadata": {},
   "outputs": [
    {
     "name": "stdout",
     "output_type": "stream",
     "text": [
      "\n",
      "Item #2 data:\n",
      "1201411000000\n",
      "\n",
      "All item data:\n",
      "Unknown\n",
      "797\n",
      "600\n",
      "3\n",
      "FB_rep\n",
      "Unspecified\n",
      "0\n",
      "0\n",
      "\n",
      "\t\t\t\n",
      "B_rep\n",
      "Unspecified\n",
      "0\n",
      "0\n",
      "\n",
      "\t\t\t\n"
     ]
    }
   ],
   "source": [
    "import xml.etree.ElementTree as ET\n",
    "tree = ET.parse('IMG_1.xml')\n",
    "root = tree.getroot()\n",
    "\n",
    "# one specific item's data\n",
    "print('\\nItem #2 data:')\n",
    "print(root[0].text)\n",
    "\n",
    "# all items data\n",
    "print('\\nAll item data:')\n",
    "for elem in root:\n",
    "    for subelem in elem:\n",
    "        print(subelem.text)"
   ]
  }
 ],
 "metadata": {
  "kernelspec": {
   "display_name": "TF2",
   "language": "python",
   "name": "tf2"
  },
  "language_info": {
   "codemirror_mode": {
    "name": "ipython",
    "version": 3
   },
   "file_extension": ".py",
   "mimetype": "text/x-python",
   "name": "python",
   "nbconvert_exporter": "python",
   "pygments_lexer": "ipython3",
   "version": "3.7.5"
  }
 },
 "nbformat": 4,
 "nbformat_minor": 2
}

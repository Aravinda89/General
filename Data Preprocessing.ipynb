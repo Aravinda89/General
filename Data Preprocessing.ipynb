{
 "cells": [
  {
   "cell_type": "markdown",
   "metadata": {},
   "source": [
    "### Data Preprocessing"
   ]
  },
  {
   "cell_type": "markdown",
   "metadata": {},
   "source": [
    "#### Check folder structure"
   ]
  },
  {
   "cell_type": "code",
   "execution_count": 12,
   "metadata": {},
   "outputs": [],
   "source": [
    "import os\n",
    "import math\n",
    "import re\n",
    "import sys\n",
    "import shutil"
   ]
  },
  {
   "cell_type": "code",
   "execution_count": 5,
   "metadata": {},
   "outputs": [],
   "source": [
    "dir_path = '/Users/aravindagayan/Documents/Projects/DataSets/Cat_Dog_data'"
   ]
  },
  {
   "cell_type": "code",
   "execution_count": 7,
   "metadata": {},
   "outputs": [
    {
     "name": "stdout",
     "output_type": "stream",
     "text": [
      "                        Cat_Dog_data/\n",
      "                            .DS_Store\n",
      "                            ...\n",
      "                            test/\n",
      "                                .DS_Store\n",
      "                                ...\n",
      "                                cat/\n",
      "                                    cat.8879.jpg\n",
      "                                    cat.888.jpg\n",
      "                                    ...\n",
      "                                dog/\n",
      "                                    dog.888.jpg\n",
      "                                    dog.8880.jpg\n",
      "                                    ...\n",
      "                            train/\n",
      "                                .DS_Store\n",
      "                                ...\n",
      "                                cat/\n",
      "                                    cat.0.jpg\n",
      "                                    cat.1.jpg\n",
      "                                    ...\n",
      "                                dog/\n",
      "                                    dog.0.jpg\n",
      "                                    dog.1.jpg\n",
      "                                    ...\n",
      "                            val/\n",
      "                                .DS_Store\n",
      "                                ...\n",
      "                                cat/\n",
      "                                    cat.7760.jpg\n",
      "                                    cat.7761.jpg\n",
      "                                    ...\n",
      "                                dog/\n",
      "                                    dog.7756.jpg\n",
      "                                    dog.7757.jpg\n",
      "                                    ...\n"
     ]
    }
   ],
   "source": [
    "#Confirm Folder Structure\n",
    "\n",
    "for root, dirs, files in os.walk(dir_path):\n",
    "    level = root.replace(os.getcwd(), '').count(os.sep)\n",
    "    print('{0}{1}/'.format('    ' * level, os.path.basename(root)))\n",
    "    for f in files[:2]:\n",
    "        print('{0}{1}'.format('    ' * (level + 1), f))\n",
    "    if level is not 0:\n",
    "        print('{0}{1}'.format('    ' * (level + 1), \"...\"))  "
   ]
  },
  {
   "cell_type": "markdown",
   "metadata": {},
   "source": [
    "### Create Train, Val, Test set"
   ]
  },
  {
   "cell_type": "code",
   "execution_count": 13,
   "metadata": {},
   "outputs": [
    {
     "name": "stdout",
     "output_type": "stream",
     "text": [
      "Moving 9000 train images to category folder cat\n",
      "Moving 1125 validation images to category folder cat\n",
      "Moving 1125 test images to category folder cat\n",
      "Moving 9000 train images to category folder dog\n",
      "Moving 1125 validation images to category folder dog\n",
      "Moving 1125 test images to category folder dog\n",
      "Done.\n"
     ]
    }
   ],
   "source": [
    "#Train and Test Set Variables\n",
    "\n",
    "dataset_path = '/Users/aravindagayan/Documents/Projects/DataSets/TR'\n",
    "\n",
    "train_val_test_ratio = (.8,.1,.1) # Data Split\n",
    "test_folder = '/Users/aravindagayan/Documents/Projects/DataSets/tvt/test/'\n",
    "train_folder = '/Users/aravindagayan/Documents/Projects/DataSets/tvt/train/'\n",
    "val_folder = '/Users/aravindagayan/Documents/Projects/DataSets/tvt/val/'\n",
    "\n",
    "file_names = os.listdir(dataset_path)\n",
    "file_names = [i for i in file_names if not i.startswith('.')]\n",
    "\n",
    "#Remove Existing Folders if they exist\n",
    "for folder in [test_folder, train_folder, val_folder]:\n",
    "    if os.path.exists(folder) and os.path.isdir(folder):\n",
    "        shutil.rmtree(folder)\n",
    "\n",
    "#Remake Category Folders in both Train and Test Folders\n",
    "for category in file_names:\n",
    "    os.makedirs(test_folder + category)\n",
    "    os.makedirs(train_folder + category)\n",
    "    os.makedirs(val_folder + category)\n",
    "\n",
    "#Split Data by Train Ratio and copy files to correct directory\n",
    "for idx, category in enumerate(file_names):\n",
    "    file_list = os.listdir(dataset_path + '/' + category)\n",
    "    \n",
    "    \n",
    "    train_ratio = math.floor(len(file_list) * train_val_test_ratio[0])\n",
    "    val_ratio = math.floor(len(file_list) * train_val_test_ratio[1])\n",
    "    train_list = file_list[:train_ratio]\n",
    "    val_list = file_list[train_ratio:train_ratio + val_ratio]\n",
    "    test_list = file_list[train_ratio + val_ratio:]\n",
    "    \n",
    "    for i, file in enumerate(train_list):\n",
    "        shutil.copy(dataset_path + '/' + category + '/' + file, train_folder + '/' + category + '/' + file)\n",
    "    sys.stdout.write('Moving %s train images to category folder %s' % (len(train_list), category))  \n",
    "    sys.stdout.write('\\n')\n",
    "    for i, file in enumerate(val_list):\n",
    "        shutil.copy(dataset_path + '/' + category + '/' + file, val_folder + '/' + category + '/' + file)\n",
    "    sys.stdout.write('Moving %s validation images to category folder %s' % (len(val_list), category))                   \n",
    "    sys.stdout.write('\\n')\n",
    "    for i, file in enumerate(test_list):\n",
    "        shutil.copy(dataset_path + '/' + category + '/' + file, test_folder + '/' + category + '/' + file)\n",
    "    sys.stdout.write('Moving %s test images to category folder %s' % (len(test_list), category))\n",
    "    sys.stdout.write('\\n')\n",
    "    \n",
    "print(\"Done.\")  "
   ]
  },
  {
   "cell_type": "code",
   "execution_count": null,
   "metadata": {},
   "outputs": [],
   "source": []
  }
 ],
 "metadata": {
  "kernelspec": {
   "display_name": "Python (myenv)",
   "language": "python",
   "name": "myenv"
  },
  "language_info": {
   "codemirror_mode": {
    "name": "ipython",
    "version": 3
   },
   "file_extension": ".py",
   "mimetype": "text/x-python",
   "name": "python",
   "nbconvert_exporter": "python",
   "pygments_lexer": "ipython3",
   "version": "3.7.5"
  }
 },
 "nbformat": 4,
 "nbformat_minor": 2
}

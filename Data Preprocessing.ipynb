{
 "cells": [
  {
   "cell_type": "markdown",
   "metadata": {},
   "source": [
    "### Data Preprocessing"
   ]
  },
  {
   "cell_type": "markdown",
   "metadata": {},
   "source": [
    "#### Check folder structure"
   ]
  },
  {
   "cell_type": "code",
   "execution_count": 4,
   "metadata": {},
   "outputs": [],
   "source": [
    "import os"
   ]
  },
  {
   "cell_type": "code",
   "execution_count": 5,
   "metadata": {},
   "outputs": [],
   "source": [
    "dir_path = '/Users/aravindagayan/Documents/Projects/DataSets/Cat_Dog_data'"
   ]
  },
  {
   "cell_type": "code",
   "execution_count": 7,
   "metadata": {},
   "outputs": [
    {
     "name": "stdout",
     "output_type": "stream",
     "text": [
      "                        Cat_Dog_data/\n",
      "                            .DS_Store\n",
      "                            ...\n",
      "                            test/\n",
      "                                .DS_Store\n",
      "                                ...\n",
      "                                cat/\n",
      "                                    cat.8879.jpg\n",
      "                                    cat.888.jpg\n",
      "                                    ...\n",
      "                                dog/\n",
      "                                    dog.888.jpg\n",
      "                                    dog.8880.jpg\n",
      "                                    ...\n",
      "                            train/\n",
      "                                .DS_Store\n",
      "                                ...\n",
      "                                cat/\n",
      "                                    cat.0.jpg\n",
      "                                    cat.1.jpg\n",
      "                                    ...\n",
      "                                dog/\n",
      "                                    dog.0.jpg\n",
      "                                    dog.1.jpg\n",
      "                                    ...\n",
      "                            val/\n",
      "                                .DS_Store\n",
      "                                ...\n",
      "                                cat/\n",
      "                                    cat.7760.jpg\n",
      "                                    cat.7761.jpg\n",
      "                                    ...\n",
      "                                dog/\n",
      "                                    dog.7756.jpg\n",
      "                                    dog.7757.jpg\n",
      "                                    ...\n"
     ]
    }
   ],
   "source": [
    "#Confirm Folder Structure\n",
    "\n",
    "for root, dirs, files in os.walk(dir_path):\n",
    "    level = root.replace(os.getcwd(), '').count(os.sep)\n",
    "    print('{0}{1}/'.format('    ' * level, os.path.basename(root)))\n",
    "    for f in files[:2]:\n",
    "        print('{0}{1}'.format('    ' * (level + 1), f))\n",
    "    if level is not 0:\n",
    "        print('{0}{1}'.format('    ' * (level + 1), \"...\"))  "
   ]
  },
  {
   "cell_type": "code",
   "execution_count": null,
   "metadata": {},
   "outputs": [],
   "source": []
  }
 ],
 "metadata": {
  "kernelspec": {
   "display_name": "Python (myenv)",
   "language": "python",
   "name": "myenv"
  },
  "language_info": {
   "codemirror_mode": {
    "name": "ipython",
    "version": 3
   },
   "file_extension": ".py",
   "mimetype": "text/x-python",
   "name": "python",
   "nbconvert_exporter": "python",
   "pygments_lexer": "ipython3",
   "version": "3.7.5"
  }
 },
 "nbformat": 4,
 "nbformat_minor": 2
}

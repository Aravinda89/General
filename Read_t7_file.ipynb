{
 "cells": [
  {
   "cell_type": "code",
   "execution_count": 1,
   "metadata": {},
   "outputs": [],
   "source": [
    "import torchfile\n",
    "import pandas as pd"
   ]
  },
  {
   "cell_type": "code",
   "execution_count": 2,
   "metadata": {},
   "outputs": [],
   "source": [
    "car_models = torchfile.load('index_class.t7')"
   ]
  },
  {
   "cell_type": "code",
   "execution_count": 3,
   "metadata": {},
   "outputs": [
    {
     "data": {
      "text/html": [
       "<div>\n",
       "<style scoped>\n",
       "    .dataframe tbody tr th:only-of-type {\n",
       "        vertical-align: middle;\n",
       "    }\n",
       "\n",
       "    .dataframe tbody tr th {\n",
       "        vertical-align: top;\n",
       "    }\n",
       "\n",
       "    .dataframe thead th {\n",
       "        text-align: right;\n",
       "    }\n",
       "</style>\n",
       "<table border=\"1\" class=\"dataframe\">\n",
       "  <thead>\n",
       "    <tr style=\"text-align: right;\">\n",
       "      <th></th>\n",
       "      <th>Model</th>\n",
       "    </tr>\n",
       "  </thead>\n",
       "  <tbody>\n",
       "    <tr>\n",
       "      <td>0</td>\n",
       "      <td>b'acura_cl_1997'</td>\n",
       "    </tr>\n",
       "    <tr>\n",
       "      <td>1</td>\n",
       "      <td>b'acura_cl_1999'</td>\n",
       "    </tr>\n",
       "    <tr>\n",
       "      <td>2</td>\n",
       "      <td>b'acura_cl_2001'</td>\n",
       "    </tr>\n",
       "    <tr>\n",
       "      <td>3</td>\n",
       "      <td>b'acura_ilx_2014'</td>\n",
       "    </tr>\n",
       "    <tr>\n",
       "      <td>4</td>\n",
       "      <td>b'acura_integra_1990'</td>\n",
       "    </tr>\n",
       "  </tbody>\n",
       "</table>\n",
       "</div>"
      ],
      "text/plain": [
       "                   Model\n",
       "0       b'acura_cl_1997'\n",
       "1       b'acura_cl_1999'\n",
       "2       b'acura_cl_2001'\n",
       "3      b'acura_ilx_2014'\n",
       "4  b'acura_integra_1990'"
      ]
     },
     "execution_count": 3,
     "metadata": {},
     "output_type": "execute_result"
    }
   ],
   "source": [
    "df = pd.DataFrame({'Model':car_models})\n",
    "df['Model'] = df['Model'].apply(lambda x: str(x))\n",
    "df.head()"
   ]
  },
  {
   "cell_type": "code",
   "execution_count": 4,
   "metadata": {},
   "outputs": [],
   "source": [
    "car_list = list(set(df['Model'].apply(lambda x: x[2:-6].split(\"_\")[0])))"
   ]
  },
  {
   "cell_type": "code",
   "execution_count": 5,
   "metadata": {},
   "outputs": [
    {
     "data": {
      "text/plain": [
       "{0: 'chrysler',\n",
       " 1: 'honda',\n",
       " 2: 'lexus',\n",
       " 3: 'kia',\n",
       " 4: 'hyundai',\n",
       " 5: 'buick',\n",
       " 6: 'nissan',\n",
       " 7: 'suzuki',\n",
       " 8: 'mini',\n",
       " 9: 'isuzu',\n",
       " 10: 'dodge',\n",
       " 11: 'acura',\n",
       " 12: 'infiniti',\n",
       " 13: 'pontiac',\n",
       " 14: 'mercury',\n",
       " 15: 'saturn',\n",
       " 16: 'mazda',\n",
       " 17: 'jeep',\n",
       " 18: 'jaguar',\n",
       " 19: 'cadillac',\n",
       " 20: 'audi',\n",
       " 21: 'oldsmobile',\n",
       " 22: 'lincoln',\n",
       " 23: 'bmw',\n",
       " 24: 'plymouth',\n",
       " 25: 'porsche',\n",
       " 26: 'chevrolet',\n",
       " 27: 'fiat',\n",
       " 28: 'ram',\n",
       " 29: 'saab',\n",
       " 30: 'gmc',\n",
       " 31: 'scion',\n",
       " 32: 'landrover',\n",
       " 33: 'subaru',\n",
       " 34: 'eagle',\n",
       " 35: 'hummer',\n",
       " 36: 'volkswagen',\n",
       " 37: 'ford',\n",
       " 38: 'toyota',\n",
       " 39: 'smart',\n",
       " 40: 'mitsubishi',\n",
       " 41: 'volvo',\n",
       " 42: 'mercedes benz'}"
      ]
     },
     "execution_count": 5,
     "metadata": {},
     "output_type": "execute_result"
    }
   ],
   "source": [
    "car_dict = {}\n",
    "\n",
    "for i,v in enumerate(car_list):\n",
    "    car_dict[i] = v\n",
    "car_dict"
   ]
  }
 ],
 "metadata": {
  "kernelspec": {
   "display_name": "Python 3",
   "language": "python",
   "name": "python3"
  },
  "language_info": {
   "codemirror_mode": {
    "name": "ipython",
    "version": 3
   },
   "file_extension": ".py",
   "mimetype": "text/x-python",
   "name": "python",
   "nbconvert_exporter": "python",
   "pygments_lexer": "ipython3",
   "version": "3.7.4"
  }
 },
 "nbformat": 4,
 "nbformat_minor": 2
}
